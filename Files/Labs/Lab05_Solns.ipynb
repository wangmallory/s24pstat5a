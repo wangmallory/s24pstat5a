{
 "cells": [
  {
   "cell_type": "markdown",
   "id": "6886d418-41ab-4e09-9264-35f696629062",
   "metadata": {},
   "source": [
    "# Section 1: Markdown Syntax"
   ]
  },
  {
   "cell_type": "markdown",
   "id": "34ddc0ab-5c6b-45df-928e-48c700369082",
   "metadata": {},
   "source": [
    "## Subsection 1.1"
   ]
  },
  {
   "cell_type": "markdown",
   "id": "606f850f-886b-4ba7-9b1d-d2b48d3db118",
   "metadata": {},
   "source": [
    "The **quick** brown fox *jumps* over the `lazy` dog."
   ]
  },
  {
   "cell_type": "markdown",
   "id": "8c6c670c-4214-471f-af8a-6bd563528539",
   "metadata": {
    "tags": []
   },
   "source": [
    "> That was a really cool sentence!"
   ]
  },
  {
   "cell_type": "markdown",
   "id": "823bd444-520b-41c3-b449-bacff0cdbcb2",
   "metadata": {},
   "source": [
    "## Subsection 1.2: Itemized and Enumerated Lists"
   ]
  },
  {
   "cell_type": "markdown",
   "id": "61658252-5c8e-4aea-b447-5dd3cd3e30a7",
   "metadata": {},
   "source": [
    "- It is very important to check the Binomial Conditions before using the Binomial Distribution!\n",
    "    - Failure to check the necessary conditions can lead to incorrect results.\n",
    "    - Incorrect results are not good!"
   ]
  },
  {
   "cell_type": "markdown",
   "id": "fe1ed9f3-6f91-4c89-a6df-c556af3329be",
   "metadata": {},
   "source": [
    "## Subsection 1.3: Typesetting Equations"
   ]
  },
  {
   "cell_type": "markdown",
   "id": "b09193a8-f754-4585-b411-b8b50c4a49e9",
   "metadata": {
    "tags": []
   },
   "source": [
    "The Pythagorean Theorem states that $a^2 + b^2 = c^2$"
   ]
  },
  {
   "cell_type": "markdown",
   "id": "19da6098-ef6d-4ac3-9806-49506bd6022f",
   "metadata": {},
   "source": [
    "$$ f_X(x) = \\frac{1}{\\sigma \\sqrt{2\\pi}} e^{-\\frac{1}{2} \\left( \\frac{x - \\mu}{\\sigma} \\right)^2} $$"
   ]
  },
  {
   "cell_type": "markdown",
   "id": "f884fa1a-cb74-459c-9c06-8afdc6047d74",
   "metadata": {},
   "source": [
    "- **Pythagorean Theorem:** $a^2 + b^2 = c^2$\n",
    "- **Euler's Identity:** $e^{i \\pi} + 1 = 0$"
   ]
  },
  {
   "cell_type": "markdown",
   "id": "1bddbc79-d709-47d8-95ea-016ad924fe1c",
   "metadata": {},
   "source": [
    "$$ \n",
    "f_X(x) = \\begin{cases} \n",
    "    \\frac{1}{b - a} & \\text{if } a \\leq x \\leq b\\\\\n",
    "    0 & \\text{otherwise}\n",
    "    \\end{cases} \n",
    "$$"
   ]
  },
  {
   "cell_type": "markdown",
   "id": "1ec91b75-2cb2-42da-99c4-7630b5cba57b",
   "metadata": {},
   "source": [
    "\\begin{align*}\n",
    "    \\overline{x} & = \\frac{1}{n} \\sum_{i=1}^{n} x_i \\\\\n",
    "    n \\overline{x} & = \\sum_{i=1}^{n} x_i \n",
    "\\end{align*}"
   ]
  },
  {
   "cell_type": "markdown",
   "id": "4bff46be-eac4-4a31-a7f5-7f4976e59fad",
   "metadata": {},
   "source": [
    "## Section 1.4: Hyperlinks"
   ]
  },
  {
   "cell_type": "markdown",
   "id": "3f3f524a-d3e1-4d1e-a619-bee7215f3f75",
   "metadata": {
    "tags": []
   },
   "source": [
    "[PSTAT Department Website](htpps://pstat5a.github.io)"
   ]
  },
  {
   "cell_type": "markdown",
   "id": "c97c8e94-e767-4b62-bbce-70a87b8e7cb4",
   "metadata": {},
   "source": [
    "# Section 2: Importing and Manipulating Data"
   ]
  },
  {
   "cell_type": "code",
   "execution_count": 1,
   "id": "5e2f9cd1-9777-41c9-8286-2ceb2fb1e250",
   "metadata": {
    "tags": []
   },
   "outputs": [],
   "source": [
    "from datascience import *"
   ]
  },
  {
   "cell_type": "code",
   "execution_count": 2,
   "id": "93e319ef-c49b-48f1-9786-f245669e7b80",
   "metadata": {
    "tags": []
   },
   "outputs": [],
   "source": [
    "air = Table.read_table(\"https://pstat5a.github.io/Files/Datasets/air22.csv\")"
   ]
  },
  {
   "cell_type": "markdown",
   "id": "211e088b-1fa6-42be-af2a-94671b29a8e1",
   "metadata": {},
   "source": [
    "To find the number of observational units, we simply count the rows in the table using the `.num_rows` method:"
   ]
  },
  {
   "cell_type": "code",
   "execution_count": 3,
   "id": "372c9b6b-f72c-44d4-b2c7-9dfcacad4580",
   "metadata": {
    "tags": []
   },
   "outputs": [
    {
     "data": {
      "text/plain": [
       "20345"
      ]
     },
     "execution_count": 3,
     "metadata": {},
     "output_type": "execute_result"
    }
   ],
   "source": [
    "air.num_rows"
   ]
  },
  {
   "cell_type": "markdown",
   "id": "420403ba-7012-467e-9641-d37b1f268c0a",
   "metadata": {},
   "source": [
    "To find the number of variables (i.e. the number of columns in the data matrix), we use the `.num_columns` method:"
   ]
  },
  {
   "cell_type": "code",
   "execution_count": 4,
   "id": "92415060-670b-4fce-9982-f57379ef38b9",
   "metadata": {
    "tags": []
   },
   "outputs": [
    {
     "data": {
      "text/plain": [
       "21"
      ]
     },
     "execution_count": 4,
     "metadata": {},
     "output_type": "execute_result"
    }
   ],
   "source": [
    "air.num_columns"
   ]
  },
  {
   "cell_type": "markdown",
   "id": "1b0df08d-aa2a-452d-a832-b3808fd22506",
   "metadata": {},
   "source": [
    "Following the hint, we can use the `.labels` method to list the column *labels* (i.e. variable names) of the data matrix:"
   ]
  },
  {
   "cell_type": "code",
   "execution_count": 5,
   "id": "9168613c-997f-4d0a-a88d-d234cf9cec46",
   "metadata": {
    "tags": []
   },
   "outputs": [
    {
     "data": {
      "text/plain": [
       "('year',\n",
       " 'month',\n",
       " 'carrier',\n",
       " 'carrier_name',\n",
       " 'airport',\n",
       " 'airport_name',\n",
       " 'arr_flights',\n",
       " 'arr_del15',\n",
       " 'carrier_ct',\n",
       " 'weather_ct',\n",
       " 'nas_ct',\n",
       " 'security_ct',\n",
       " 'late_aircraft_ct',\n",
       " 'arr_cancelled',\n",
       " 'arr_diverted',\n",
       " 'arr_delay',\n",
       " 'carrier_delay',\n",
       " 'weather_delay',\n",
       " 'nas_delay',\n",
       " 'security_delay',\n",
       " 'late_aircraft_delay')"
      ]
     },
     "execution_count": 5,
     "metadata": {},
     "output_type": "execute_result"
    }
   ],
   "source": [
    "air.labels"
   ]
  },
  {
   "cell_type": "markdown",
   "id": "caa7d3d3-0723-416b-9db0-9aed6e315bc5",
   "metadata": {},
   "source": [
    "To display only the `arr_del15` column we can use the command:"
   ]
  },
  {
   "cell_type": "code",
   "execution_count": 6,
   "id": "9af474f1-f118-41da-ba5c-5aa25bc23a06",
   "metadata": {
    "tags": []
   },
   "outputs": [
    {
     "data": {
      "text/plain": [
       "array([  7.,   3.,  14., ...,   3.,   1.,  17.])"
      ]
     },
     "execution_count": 6,
     "metadata": {},
     "output_type": "execute_result"
    }
   ],
   "source": [
    "air.column(\"arr_del15\")"
   ]
  },
  {
   "cell_type": "markdown",
   "id": "5bd75946-e56b-49ea-a846-5a95f12d5c65",
   "metadata": {},
   "source": [
    "To find which years were included in the dataset, we display the `year` column of the data matrix:"
   ]
  },
  {
   "cell_type": "code",
   "execution_count": 7,
   "id": "2791f21c-95d5-43d0-82a4-9dab2912cc9b",
   "metadata": {
    "tags": []
   },
   "outputs": [
    {
     "data": {
      "text/plain": [
       "array([2022, 2022, 2022, ..., 2022, 2022, 2022])"
      ]
     },
     "execution_count": 7,
     "metadata": {},
     "output_type": "execute_result"
    }
   ],
   "source": [
    "air.column(\"year\") # seems like only 2022 is included in the dataset"
   ]
  },
  {
   "cell_type": "code",
   "execution_count": 8,
   "id": "a1d1fb8c-10ff-4c89-9b4d-353b557ae168",
   "metadata": {
    "tags": []
   },
   "outputs": [],
   "source": [
    "%matplotlib inline\n",
    "import matplotlib\n",
    "import matplotlib.pyplot as plt\n",
    "plt.style.use('seaborn-v0_8-whitegrid')"
   ]
  },
  {
   "cell_type": "code",
   "execution_count": 9,
   "id": "8908617b-3268-484d-baaf-716d04cc162d",
   "metadata": {
    "tags": []
   },
   "outputs": [
    {
     "data": {
      "image/png": "[encoded data removed]",
      "text/plain": [
       "<Figure size 640x480 with 1 Axes>"
      ]
     },
     "metadata": {},
     "output_type": "display_data"
    }
   ],
   "source": [
    "plt.hist(air.column(\"weather_delay\"),\n",
    "         bins = 100,\n",
    "         edgecolor = \"white\");\n",
    "plt.xlabel(\"delay duration (in mins)\");\n",
    "plt.ylabel(\"frequency\");\n",
    "plt.title(\"Histogram of Delays\");"
   ]
  },
  {
   "cell_type": "markdown",
   "id": "fe754cbc-91f1-4052-9d9b-ddcda3f2f1cf",
   "metadata": {},
   "source": [
    "Here's how we can easily find the answer to the question \"how many observational units were recorded from Alaska Airlines?\" \n",
    "\n",
    "As mentioned in the lab handout, `air.column(\"carrier\") == \"AS\"` returns a boolean vector with `True` elements corresponding to values in `carrier` that have values `AS`. Since `True` is encoded as `1` and `False` is encoded as `0` (as was discussed in a previous lab), summing up the elements in the array `air.column(\"carrier\") == \"AS\"` will result in the total *number* of `True` elements; i.e. the number of flights that were maintained by Alaska Airlines."
   ]
  },
  {
   "cell_type": "code",
   "execution_count": 10,
   "id": "56297bc6-ea47-480f-838d-ceb4cf24b1e8",
   "metadata": {
    "tags": []
   },
   "outputs": [
    {
     "data": {
      "text/plain": [
       "975"
      ]
     },
     "execution_count": 10,
     "metadata": {},
     "output_type": "execute_result"
    }
   ],
   "source": [
    "sum(air.column(\"carrier\") == \"AS\")"
   ]
  },
  {
   "cell_type": "markdown",
   "id": "887f0f3a-cc75-4d6d-9668-bdd88049020f",
   "metadata": {},
   "source": [
    "The code `air.row(air.column(1) == 1)` is selecting the rows of the `air` data matrix whose second column entry (i.e. month) entry is equal to 1; i.e. it returns the portion of the data matrix corresponding to flights taking place in January."
   ]
  },
  {
   "cell_type": "markdown",
   "id": "8f4aa387-e3e7-4efb-bc31-323cf500ae73",
   "metadata": {},
   "source": [
    "The code `air.row(air.column(1) == 2)[6]` returns the durations of flgihts that took place in February (i.e. the *second* month)."
   ]
  },
  {
   "cell_type": "markdown",
   "id": "62e6fb8a-3da8-436c-a39d-d3b7e0fc99b9",
   "metadata": {},
   "source": [
    "Thus, putting these two facts together, we can create a `for`-loop to give us the average duration of flights per month:"
   ]
  },
  {
   "cell_type": "code",
   "execution_count": 11,
   "id": "8014f18e-fe2e-43fb-8a4c-f97985d7bf91",
   "metadata": {
    "tags": []
   },
   "outputs": [],
   "source": [
    "import numpy as np\n",
    "\n",
    "means = []\n",
    "for k in np.arange(1, 13):\n",
    "  means.append(np.nanmean(air.row(air.column(1) == k)[6]))\n"
   ]
  },
  {
   "cell_type": "code",
   "execution_count": 12,
   "id": "0011632c-4854-47a2-9c11-6fd9d3713a89",
   "metadata": {
    "tags": []
   },
   "outputs": [
    {
     "data": {
      "image/png": "[encoded data removed]",
      "text/plain": [
       "<Figure size 640x480 with 1 Axes>"
      ]
     },
     "metadata": {},
     "output_type": "display_data"
    }
   ],
   "source": [
    "plt.plot(np.arange(1, 13),\n",
    "         means);\n",
    "plt.xlabel(\"month\");\n",
    "plt.ylabel(\"avg. duration of flights ( in mins)\");\n",
    "plt.title(\"Average Duration of Flights Per Month\");"
   ]
  },
  {
   "cell_type": "code",
   "execution_count": null,
   "id": "77b1687f-9242-42e3-9840-39610a043a8e",
   "metadata": {},
   "outputs": [],
   "source": []
  }
 ],
 "metadata": {
  "authors": [
   {
    "name": "Summer Session A, 2023"
   },
   {
    "name": "Ethan M."
   }
  ],
  "kernelspec": {
   "display_name": "Python 3 (ipykernel)",
   "language": "python",
   "name": "python3"
  },
  "language_info": {
   "codemirror_mode": {
    "name": "ipython",
    "version": 3
   },
   "file_extension": ".py",
   "mimetype": "text/x-python",
   "name": "python",
   "nbconvert_exporter": "python",
   "pygments_lexer": "ipython3",
   "version": "3.10.9"
  }
 },
 "nbformat": 4,
 "nbformat_minor": 5
}
